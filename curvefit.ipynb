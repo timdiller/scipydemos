{
 "cells": [
  {
   "cell_type": "code",
   "execution_count": null,
   "id": "3f7f30f6",
   "metadata": {
    "collapsed": false,
    "jupyter": {
     "outputs_hidden": false
    }
   },
   "outputs": [],
   "source": [
    "from matplotlib.pyplot import axis, plot\n",
    "import numpy as np\n",
    "np.set_printoptions(precision=3, suppress=True, threshold=10)"
   ]
  },
  {
   "cell_type": "markdown",
   "id": "0eba633d",
   "metadata": {},
   "source": [
    "# Curve Fitting"
   ]
  },
  {
   "cell_type": "markdown",
   "id": "49b4d358",
   "metadata": {},
   "source": [
    "## Linear polynomial fitting"
   ]
  },
  {
   "cell_type": "code",
   "execution_count": null,
   "id": "9b06ae1f",
   "metadata": {
    "collapsed": false,
    "jupyter": {
     "outputs_hidden": false
    }
   },
   "outputs": [],
   "source": [
    "from numpy import polyfit, poly1d, pi"
   ]
  },
  {
   "cell_type": "code",
   "execution_count": null,
   "id": "c0032624",
   "metadata": {
    "collapsed": false,
    "jupyter": {
     "outputs_hidden": false
    }
   },
   "outputs": [],
   "source": [
    "x = np.linspace(-5, 5, 100)\n",
    "y = 4 * x + 1.5\n",
    "noisy_y = y + np.random.randn(y.shape[-1]) * 2.5"
   ]
  },
  {
   "cell_type": "code",
   "execution_count": null,
   "id": "27da9df4",
   "metadata": {
    "collapsed": false,
    "jupyter": {
     "outputs_hidden": false
    }
   },
   "outputs": [],
   "source": [
    "p = plot(x, noisy_y, 'rx')\n",
    "p = plot(x, y, 'b:')"
   ]
  },
  {
   "cell_type": "code",
   "execution_count": null,
   "id": "dfec5091",
   "metadata": {
    "collapsed": false,
    "jupyter": {
     "outputs_hidden": false
    }
   },
   "outputs": [],
   "source": [
    "coefficients = polyfit(x, noisy_y, 1)\n",
    "print(coefficients)"
   ]
  },
  {
   "cell_type": "code",
   "execution_count": null,
   "id": "c8c9b210",
   "metadata": {
    "collapsed": false,
    "jupyter": {
     "outputs_hidden": false
    }
   },
   "outputs": [],
   "source": [
    "p = plot(x, noisy_y, 'rx')\n",
    "p = plot(x, coefficients[0] * x + coefficients[1], 'k-')\n",
    "p = plot(x, y, 'b--')"
   ]
  },
  {
   "cell_type": "code",
   "execution_count": null,
   "id": "f3ef3ffc",
   "metadata": {
    "collapsed": false,
    "jupyter": {
     "outputs_hidden": false
    }
   },
   "outputs": [],
   "source": [
    "f = poly1d(coefficients)\n",
    "p = plot(x, noisy_y, 'rx')\n",
    "p = plot(x, f(x))"
   ]
  },
  {
   "cell_type": "code",
   "execution_count": null,
   "id": "a030fe26",
   "metadata": {
    "collapsed": false,
    "jupyter": {
     "outputs_hidden": false
    }
   },
   "outputs": [],
   "source": [
    "f"
   ]
  },
  {
   "cell_type": "code",
   "execution_count": null,
   "id": "bee546f4",
   "metadata": {
    "collapsed": false,
    "jupyter": {
     "outputs_hidden": false
    }
   },
   "outputs": [],
   "source": [
    "print(f + 2 * f **2)"
   ]
  },
  {
   "cell_type": "markdown",
   "id": "31a168e6",
   "metadata": {},
   "source": [
    "## Sine curve example"
   ]
  },
  {
   "cell_type": "code",
   "execution_count": null,
   "id": "2bf82024",
   "metadata": {
    "collapsed": false,
    "jupyter": {
     "outputs_hidden": false
    }
   },
   "outputs": [],
   "source": [
    "x = np.linspace(-np.pi, np.pi, 100)\n",
    "y = np.sin(x)"
   ]
  },
  {
   "cell_type": "code",
   "execution_count": null,
   "id": "05770ffc",
   "metadata": {
    "collapsed": false,
    "jupyter": {
     "outputs_hidden": false
    }
   },
   "outputs": [],
   "source": [
    "y1 = poly1d(polyfit(x, y, 1))\n",
    "y3 = poly1d(polyfit(x, y, 3))\n",
    "y5 = poly1d(polyfit(x, y, 5))\n",
    "y7 = poly1d(polyfit(x, y, 7))\n",
    "y9 = poly1d(polyfit(x, y, 9))"
   ]
  },
  {
   "cell_type": "code",
   "execution_count": null,
   "id": "1bfbf0c4",
   "metadata": {
    "collapsed": false,
    "jupyter": {
     "outputs_hidden": false
    }
   },
   "outputs": [],
   "source": [
    "x = np.linspace(-3 * np.pi, 3 * np.pi, 100)\n",
    "p = plot(x, np.sin(x), 'k')\n",
    "p = plot(x, y1(x))\n",
    "p = plot(x, y3(x))\n",
    "p = plot(x, y5(x))\n",
    "p = plot(x, y7(x))\n",
    "p = plot(x, y9(x))\n",
    "a = axis([-3 * np.pi, 3 * np.pi, -1.25, 1.25])"
   ]
  },
  {
   "cell_type": "markdown",
   "id": "a36738c5",
   "metadata": {},
   "source": [
    "## Least-Squares Fitting"
   ]
  },
  {
   "cell_type": "code",
   "execution_count": null,
   "id": "1a20650f",
   "metadata": {
    "collapsed": false,
    "jupyter": {
     "outputs_hidden": false
    }
   },
   "outputs": [],
   "source": [
    "from scipy.linalg import lstsq\n",
    "from scipy.stats import linregress\n",
    "from scipy.optimize import leastsq"
   ]
  },
  {
   "cell_type": "code",
   "execution_count": null,
   "id": "bb16b1f2",
   "metadata": {
    "collapsed": false,
    "jupyter": {
     "outputs_hidden": false
    }
   },
   "outputs": [],
   "source": [
    "x = np.linspace(0, 5, 100)\n",
    "y = 0.5 * x + np.random.randn(x.shape[-1]) * 0.35\n",
    "p = plot(x,y,'x')"
   ]
  },
  {
   "cell_type": "markdown",
   "id": "62323607",
   "metadata": {},
   "source": [
    "$$XC = Y$$\n",
    "\n",
    "where for a polynomial of order $N$ and $M$ observations\n",
    "\n",
    "$$\\left[ \\begin{matrix}\n",
    "x_0^{N-1} & \\dots & x_0 & 1 \\\\\\\n",
    "x_1^{N-1} & \\dots & x_1 & 1 \\\\\\\n",
    "\\dots & \\dots & \\dots & \\dots \\\\\\\n",
    "x_M^{N-1} & \\dots & x_M & 1\n",
    "\\end{matrix}\\right] \n",
    "\\left[ \\begin{matrix} C_{N-1} \\\\\\ \\dots \\\\\\ C_1 \\\\\\ C_0 \\end{matrix} \\right] =\n",
    "\\left[ \\begin{matrix} y_0 \\\\\\ y_1 \\\\\\ \\dots \\\\\\ y_M \\end{matrix} \\right]$$"
   ]
  },
  {
   "cell_type": "markdown",
   "id": "956601e4",
   "metadata": {},
   "source": [
    "### Scipy.linalg.lstsq "
   ]
  },
  {
   "cell_type": "code",
   "execution_count": null,
   "id": "82fc8bbf",
   "metadata": {},
   "outputs": [],
   "source": [
    "X = np.hstack((x[:, np.newaxis], np.ones((x.shape[-1],1))))\n",
    "X"
   ]
  },
  {
   "cell_type": "code",
   "execution_count": null,
   "id": "aaf43b47",
   "metadata": {},
   "outputs": [],
   "source": [
    "C, resid, rank, s = lstsq(X, y)\n",
    "p = plot(x, y, 'rx')\n",
    "p = plot(x, C[0] * x + C[1], 'k--')\n",
    "print(\"sum squared residual = {:.3f}\".format(resid))\n",
    "print(\"rank of the X matrix = {}\".format(rank))\n",
    "print(\"singular values of X = {}\".format(s))"
   ]
  },
  {
   "cell_type": "markdown",
   "id": "d0843679",
   "metadata": {},
   "source": [
    "### Scipy.stats.linregress"
   ]
  },
  {
   "cell_type": "code",
   "execution_count": null,
   "id": "85791fc0",
   "metadata": {
    "collapsed": false,
    "jupyter": {
     "outputs_hidden": false
    }
   },
   "outputs": [],
   "source": [
    "slope, intercept, r_value, p_value, stderr = linregress(x, y)"
   ]
  },
  {
   "cell_type": "code",
   "execution_count": null,
   "id": "1399be25",
   "metadata": {
    "collapsed": false,
    "jupyter": {
     "outputs_hidden": false
    }
   },
   "outputs": [],
   "source": [
    "p = plot(x, y, 'rx')\n",
    "p = plot(x, slope * x + intercept, 'k--')\n",
    "print(\"R-value = {:.3f}\".format(r_value))\n",
    "print(\"p-value (probability there is no correlation) = {:.3e}\".format(p_value))\n",
    "print(\"Root mean squared error (𝜎) of the fit = {:.3f}\".format(np.sqrt(stderr)))"
   ]
  },
  {
   "cell_type": "markdown",
   "id": "656c719b",
   "metadata": {},
   "source": [
    "## Curve fitting with callables"
   ]
  },
  {
   "cell_type": "markdown",
   "id": "eb7e7037",
   "metadata": {},
   "source": [
    "$y = a e^{-b sin( f x + \\phi)}$"
   ]
  },
  {
   "cell_type": "markdown",
   "id": "2fcdbbf3-e8e9-440e-8974-2b1c5031f8d8",
   "metadata": {},
   "source": [
    "First, let's generate a function with some parameters and make noisy data from it.  We'll try a couple of methods to see if we can recover the original parameters from the noisy data."
   ]
  },
  {
   "cell_type": "code",
   "execution_count": null,
   "id": "2373fe4f",
   "metadata": {
    "collapsed": false,
    "jupyter": {
     "outputs_hidden": false
    }
   },
   "outputs": [],
   "source": [
    "def function(x, a , b, f, phi):\n",
    "    \"\"\"a function of x with four parameters\"\"\"\n",
    "    result = a * np.exp(-b * np.sin(f * x + phi))\n",
    "    return result"
   ]
  },
  {
   "cell_type": "code",
   "execution_count": null,
   "id": "4bd9bc04",
   "metadata": {
    "collapsed": false,
    "jupyter": {
     "outputs_hidden": false
    }
   },
   "outputs": [],
   "source": [
    "x = np.linspace(0, 2 * pi, 50)\n",
    "actual_parameters = [3, 2, 1.25, pi / 4]\n",
    "y = function(x, *actual_parameters)\n",
    "p = plot(x,y)"
   ]
  },
  {
   "cell_type": "code",
   "execution_count": null,
   "id": "7b5ca671",
   "metadata": {
    "collapsed": false,
    "jupyter": {
     "outputs_hidden": false
    }
   },
   "outputs": [],
   "source": [
    "from scipy.stats import norm\n",
    "y_noisy = y + 0.8 * norm.rvs(size=len(x))\n",
    "p = plot(x, y, 'k-')\n",
    "p = plot(x, y_noisy, 'rx')"
   ]
  },
  {
   "cell_type": "markdown",
   "id": "b038e832",
   "metadata": {},
   "source": [
    "### scipy.optimize.leastsq"
   ]
  },
  {
   "cell_type": "code",
   "execution_count": null,
   "id": "976b53c3",
   "metadata": {
    "collapsed": false,
    "jupyter": {
     "outputs_hidden": false
    }
   },
   "outputs": [],
   "source": [
    "def f_err(p, y, x):\n",
    "    \"\"\"Returns the error between y and function(x) for a set of x-y points\"\"\"\n",
    "    return y - function(x, *p)"
   ]
  },
  {
   "cell_type": "code",
   "execution_count": null,
   "id": "83d0904d",
   "metadata": {
    "collapsed": false,
    "jupyter": {
     "outputs_hidden": false
    }
   },
   "outputs": [],
   "source": [
    "c, ret_val = leastsq(f_err, [1, 1, 1, 1], args=(y_noisy, x))"
   ]
  },
  {
   "cell_type": "markdown",
   "id": "6a302f52",
   "metadata": {},
   "source": [
    "If `ret_val` is 1, 2, 3, 4, then the solution was found, and execution was successful."
   ]
  },
  {
   "cell_type": "code",
   "execution_count": null,
   "id": "d4c8afc8",
   "metadata": {
    "collapsed": false,
    "jupyter": {
     "outputs_hidden": false
    }
   },
   "outputs": [],
   "source": [
    "p = plot(x, y_noisy, 'rx')\n",
    "p = plot(x, function(x, *c), 'k--')\n",
    "print(f\"ret_val={ret_val}\")\n",
    "print(\"Actual parameters   ={}.\".format(\", \".join(\"{:5.2f}\".format(p) for p in actual_parameters)))\n",
    "print(\"Scipy Least Squares ={}.\".format(\", \".join(\"{:5.2f}\".format(p) for p in c)))"
   ]
  },
  {
   "cell_type": "markdown",
   "id": "a63e3501-600d-472b-af69-b5f2eebebc76",
   "metadata": {},
   "source": [
    "Initial guess makes a difference:"
   ]
  },
  {
   "cell_type": "code",
   "execution_count": null,
   "id": "928a5e07",
   "metadata": {
    "collapsed": false,
    "jupyter": {
     "outputs_hidden": false
    }
   },
   "outputs": [],
   "source": [
    "c, ret_val = leastsq(f_err, [0, 0, 0, 0], args=(y_noisy, x))\n",
    "p = plot(x, y, 'rx')\n",
    "p = plot(x, function(x, *c), 'k--')\n",
    "print(f\"ret_val={ret_val}\")\n",
    "print(\"Actual parameters   ={}.\".format(\", \".join(\"{:5.2f}\".format(p) for p in actual_parameters)))\n",
    "print(\"Scipy Least Squares ={}.\".format(\", \".join(\"{:5.2f}\".format(p) for p in c)))"
   ]
  },
  {
   "cell_type": "markdown",
   "id": "8f4c2bca",
   "metadata": {},
   "source": [
    "### scipy.optimize.curve_fit"
   ]
  },
  {
   "cell_type": "markdown",
   "id": "aba43c27",
   "metadata": {},
   "source": [
    "General purpose curve fitting interface to Fortran `MINPACK`"
   ]
  },
  {
   "cell_type": "code",
   "execution_count": null,
   "id": "82e7ad59",
   "metadata": {
    "collapsed": false,
    "jupyter": {
     "outputs_hidden": false
    }
   },
   "outputs": [],
   "source": [
    "from scipy.optimize import curve_fit"
   ]
  },
  {
   "cell_type": "code",
   "execution_count": null,
   "id": "108853af",
   "metadata": {
    "collapsed": false,
    "jupyter": {
     "outputs_hidden": false
    }
   },
   "outputs": [],
   "source": [
    "p_est, err_est = curve_fit(function, x, y_noisy)"
   ]
  },
  {
   "cell_type": "code",
   "execution_count": null,
   "id": "b8f38b50",
   "metadata": {
    "collapsed": false,
    "jupyter": {
     "outputs_hidden": false
    }
   },
   "outputs": [],
   "source": [
    "p = plot(x, y_noisy, \"rx\")\n",
    "p = plot(x, function(x, *p_est), \"k--\")\n",
    "print(\"Actual parameters   ={}.\".format(\", \".join(\"{:5.2f}\".format(p) for p in actual_parameters)))\n",
    "print(\"Scipy Least Squares ={}.\".format(\", \".join(\"{:5.2f}\".format(p) for p in p_est)))"
   ]
  },
  {
   "cell_type": "code",
   "execution_count": null,
   "id": "23c03dbb",
   "metadata": {
    "collapsed": false,
    "jupyter": {
     "outputs_hidden": false
    }
   },
   "outputs": [],
   "source": [
    "# err_est is a covariance matrix of the estimates\n",
    "# The diagonals are the variances of the individual parameters.\n",
    "print(err_est)"
   ]
  },
  {
   "cell_type": "code",
   "execution_count": null,
   "id": "30b27378",
   "metadata": {
    "collapsed": false,
    "jupyter": {
     "outputs_hidden": false
    }
   },
   "outputs": [],
   "source": [
    "print(\"normalized relative errors for each parameter\")\n",
    "print(\"   a\\t  b\\t f\\tphi\")\n",
    "print(np.sqrt(err_est.diagonal()) / p_est)"
   ]
  },
  {
   "cell_type": "code",
   "execution_count": null,
   "id": "be0b0835-fb82-465f-b521-aafecd004fe6",
   "metadata": {},
   "outputs": [],
   "source": []
  }
 ],
 "metadata": {
  "kernelspec": {
   "display_name": "Python 3",
   "language": "python",
   "name": "python3"
  },
  "language_info": {
   "codemirror_mode": {
    "name": "ipython",
    "version": 3
   },
   "file_extension": ".py",
   "mimetype": "text/x-python",
   "name": "python",
   "nbconvert_exporter": "python",
   "pygments_lexer": "ipython3",
   "version": "3.6.13"
  }
 },
 "nbformat": 4,
 "nbformat_minor": 5
}
